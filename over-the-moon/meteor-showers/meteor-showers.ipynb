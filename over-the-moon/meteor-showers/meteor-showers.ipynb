{
 "cells": [
  {
   "cell_type": "code",
   "execution_count": 2,
   "source": [
    "import numpy as np\n",
    "import pandas as pd"
   ],
   "outputs": [],
   "metadata": {}
  },
  {
   "cell_type": "code",
   "execution_count": 3,
   "source": [
    "meteor_showers = pd.read_csv('data/meteorshowers.csv')\n",
    "moon_phases = pd.read_csv('data/moonphases.csv')\n",
    "constellations = pd.read_csv('data/constellations.csv')\n",
    "cities = pd.read_csv('data/cities.csv')"
   ],
   "outputs": [],
   "metadata": {}
  },
  {
   "cell_type": "code",
   "execution_count": 4,
   "source": [
    " meteor_showers.head()"
   ],
   "outputs": [
    {
     "output_type": "execute_result",
     "data": {
      "text/plain": [
       "           name   radiant bestmonth startmonth  startday  endmonth  endday  \\\n",
       "0        Lyrids      Lyra     april      april        21     april      22   \n",
       "1  Eta Aquarids  Aquarius       may      april        19       may      28   \n",
       "2      Orionids     Orion   october    october         2  november       7   \n",
       "3      Perseids   Perseus    august       july        14    august      24   \n",
       "4       Leonids       Leo  november   november         6  november      30   \n",
       "\n",
       "           hemisphere preferredhemisphere  \n",
       "0            northern            northern  \n",
       "1  northern, southern            southern  \n",
       "2  northern, southern  northern, southern  \n",
       "3            northern            northern  \n",
       "4  northern, southern  northern, southern  "
      ],
      "text/html": [
       "<div>\n",
       "<style scoped>\n",
       "    .dataframe tbody tr th:only-of-type {\n",
       "        vertical-align: middle;\n",
       "    }\n",
       "\n",
       "    .dataframe tbody tr th {\n",
       "        vertical-align: top;\n",
       "    }\n",
       "\n",
       "    .dataframe thead th {\n",
       "        text-align: right;\n",
       "    }\n",
       "</style>\n",
       "<table border=\"1\" class=\"dataframe\">\n",
       "  <thead>\n",
       "    <tr style=\"text-align: right;\">\n",
       "      <th></th>\n",
       "      <th>name</th>\n",
       "      <th>radiant</th>\n",
       "      <th>bestmonth</th>\n",
       "      <th>startmonth</th>\n",
       "      <th>startday</th>\n",
       "      <th>endmonth</th>\n",
       "      <th>endday</th>\n",
       "      <th>hemisphere</th>\n",
       "      <th>preferredhemisphere</th>\n",
       "    </tr>\n",
       "  </thead>\n",
       "  <tbody>\n",
       "    <tr>\n",
       "      <th>0</th>\n",
       "      <td>Lyrids</td>\n",
       "      <td>Lyra</td>\n",
       "      <td>april</td>\n",
       "      <td>april</td>\n",
       "      <td>21</td>\n",
       "      <td>april</td>\n",
       "      <td>22</td>\n",
       "      <td>northern</td>\n",
       "      <td>northern</td>\n",
       "    </tr>\n",
       "    <tr>\n",
       "      <th>1</th>\n",
       "      <td>Eta Aquarids</td>\n",
       "      <td>Aquarius</td>\n",
       "      <td>may</td>\n",
       "      <td>april</td>\n",
       "      <td>19</td>\n",
       "      <td>may</td>\n",
       "      <td>28</td>\n",
       "      <td>northern, southern</td>\n",
       "      <td>southern</td>\n",
       "    </tr>\n",
       "    <tr>\n",
       "      <th>2</th>\n",
       "      <td>Orionids</td>\n",
       "      <td>Orion</td>\n",
       "      <td>october</td>\n",
       "      <td>october</td>\n",
       "      <td>2</td>\n",
       "      <td>november</td>\n",
       "      <td>7</td>\n",
       "      <td>northern, southern</td>\n",
       "      <td>northern, southern</td>\n",
       "    </tr>\n",
       "    <tr>\n",
       "      <th>3</th>\n",
       "      <td>Perseids</td>\n",
       "      <td>Perseus</td>\n",
       "      <td>august</td>\n",
       "      <td>july</td>\n",
       "      <td>14</td>\n",
       "      <td>august</td>\n",
       "      <td>24</td>\n",
       "      <td>northern</td>\n",
       "      <td>northern</td>\n",
       "    </tr>\n",
       "    <tr>\n",
       "      <th>4</th>\n",
       "      <td>Leonids</td>\n",
       "      <td>Leo</td>\n",
       "      <td>november</td>\n",
       "      <td>november</td>\n",
       "      <td>6</td>\n",
       "      <td>november</td>\n",
       "      <td>30</td>\n",
       "      <td>northern, southern</td>\n",
       "      <td>northern, southern</td>\n",
       "    </tr>\n",
       "  </tbody>\n",
       "</table>\n",
       "</div>"
      ]
     },
     "metadata": {},
     "execution_count": 4
    }
   ],
   "metadata": {}
  },
  {
   "cell_type": "code",
   "execution_count": 5,
   "source": [
    "meteor_showers.info()"
   ],
   "outputs": [
    {
     "output_type": "stream",
     "name": "stdout",
     "text": [
      "<class 'pandas.core.frame.DataFrame'>\n",
      "RangeIndex: 5 entries, 0 to 4\n",
      "Data columns (total 9 columns):\n",
      " #   Column               Non-Null Count  Dtype \n",
      "---  ------               --------------  ----- \n",
      " 0   name                 5 non-null      object\n",
      " 1   radiant              5 non-null      object\n",
      " 2   bestmonth            5 non-null      object\n",
      " 3   startmonth           5 non-null      object\n",
      " 4   startday             5 non-null      int64 \n",
      " 5   endmonth             5 non-null      object\n",
      " 6   endday               5 non-null      int64 \n",
      " 7   hemisphere           5 non-null      object\n",
      " 8   preferredhemisphere  5 non-null      object\n",
      "dtypes: int64(2), object(7)\n",
      "memory usage: 488.0+ bytes\n"
     ]
    }
   ],
   "metadata": {}
  },
  {
   "cell_type": "markdown",
   "source": [],
   "metadata": {}
  },
  {
   "cell_type": "code",
   "execution_count": 6,
   "source": [
    "moon_phases.head()"
   ],
   "outputs": [
    {
     "output_type": "execute_result",
     "data": {
      "text/plain": [
       "     month  day      moonphase specialevent\n",
       "0  january    1            NaN          NaN\n",
       "1  january    2  first quarter          NaN\n",
       "2  january    3            NaN          NaN\n",
       "3  january    4            NaN          NaN\n",
       "4  january    5            NaN          NaN"
      ],
      "text/html": [
       "<div>\n",
       "<style scoped>\n",
       "    .dataframe tbody tr th:only-of-type {\n",
       "        vertical-align: middle;\n",
       "    }\n",
       "\n",
       "    .dataframe tbody tr th {\n",
       "        vertical-align: top;\n",
       "    }\n",
       "\n",
       "    .dataframe thead th {\n",
       "        text-align: right;\n",
       "    }\n",
       "</style>\n",
       "<table border=\"1\" class=\"dataframe\">\n",
       "  <thead>\n",
       "    <tr style=\"text-align: right;\">\n",
       "      <th></th>\n",
       "      <th>month</th>\n",
       "      <th>day</th>\n",
       "      <th>moonphase</th>\n",
       "      <th>specialevent</th>\n",
       "    </tr>\n",
       "  </thead>\n",
       "  <tbody>\n",
       "    <tr>\n",
       "      <th>0</th>\n",
       "      <td>january</td>\n",
       "      <td>1</td>\n",
       "      <td>NaN</td>\n",
       "      <td>NaN</td>\n",
       "    </tr>\n",
       "    <tr>\n",
       "      <th>1</th>\n",
       "      <td>january</td>\n",
       "      <td>2</td>\n",
       "      <td>first quarter</td>\n",
       "      <td>NaN</td>\n",
       "    </tr>\n",
       "    <tr>\n",
       "      <th>2</th>\n",
       "      <td>january</td>\n",
       "      <td>3</td>\n",
       "      <td>NaN</td>\n",
       "      <td>NaN</td>\n",
       "    </tr>\n",
       "    <tr>\n",
       "      <th>3</th>\n",
       "      <td>january</td>\n",
       "      <td>4</td>\n",
       "      <td>NaN</td>\n",
       "      <td>NaN</td>\n",
       "    </tr>\n",
       "    <tr>\n",
       "      <th>4</th>\n",
       "      <td>january</td>\n",
       "      <td>5</td>\n",
       "      <td>NaN</td>\n",
       "      <td>NaN</td>\n",
       "    </tr>\n",
       "  </tbody>\n",
       "</table>\n",
       "</div>"
      ]
     },
     "metadata": {},
     "execution_count": 6
    }
   ],
   "metadata": {}
  },
  {
   "cell_type": "code",
   "execution_count": 7,
   "source": [
    "moon_phases.info()"
   ],
   "outputs": [
    {
     "output_type": "stream",
     "name": "stdout",
     "text": [
      "<class 'pandas.core.frame.DataFrame'>\n",
      "RangeIndex: 366 entries, 0 to 365\n",
      "Data columns (total 4 columns):\n",
      " #   Column        Non-Null Count  Dtype \n",
      "---  ------        --------------  ----- \n",
      " 0   month         366 non-null    object\n",
      " 1   day           366 non-null    int64 \n",
      " 2   moonphase     50 non-null     object\n",
      " 3   specialevent  10 non-null     object\n",
      "dtypes: int64(1), object(3)\n",
      "memory usage: 11.6+ KB\n"
     ]
    }
   ],
   "metadata": {}
  },
  {
   "cell_type": "code",
   "execution_count": 8,
   "source": [
    "constellations.head()"
   ],
   "outputs": [
    {
     "output_type": "execute_result",
     "data": {
      "text/plain": [
       "  constellation bestmonth  latitudestart  latitudeend besttime hemisphere\n",
       "0          Lyra    august             90          -40    21:00   northern\n",
       "1      Aquarius   october             65          -90    21:00   southern\n",
       "2         Orion   january             85          -75    21:00   northern\n",
       "3       Perseus  december             90          -35    21:00   northern\n",
       "4           Leo     april             90           65    21:00   northern"
      ],
      "text/html": [
       "<div>\n",
       "<style scoped>\n",
       "    .dataframe tbody tr th:only-of-type {\n",
       "        vertical-align: middle;\n",
       "    }\n",
       "\n",
       "    .dataframe tbody tr th {\n",
       "        vertical-align: top;\n",
       "    }\n",
       "\n",
       "    .dataframe thead th {\n",
       "        text-align: right;\n",
       "    }\n",
       "</style>\n",
       "<table border=\"1\" class=\"dataframe\">\n",
       "  <thead>\n",
       "    <tr style=\"text-align: right;\">\n",
       "      <th></th>\n",
       "      <th>constellation</th>\n",
       "      <th>bestmonth</th>\n",
       "      <th>latitudestart</th>\n",
       "      <th>latitudeend</th>\n",
       "      <th>besttime</th>\n",
       "      <th>hemisphere</th>\n",
       "    </tr>\n",
       "  </thead>\n",
       "  <tbody>\n",
       "    <tr>\n",
       "      <th>0</th>\n",
       "      <td>Lyra</td>\n",
       "      <td>august</td>\n",
       "      <td>90</td>\n",
       "      <td>-40</td>\n",
       "      <td>21:00</td>\n",
       "      <td>northern</td>\n",
       "    </tr>\n",
       "    <tr>\n",
       "      <th>1</th>\n",
       "      <td>Aquarius</td>\n",
       "      <td>october</td>\n",
       "      <td>65</td>\n",
       "      <td>-90</td>\n",
       "      <td>21:00</td>\n",
       "      <td>southern</td>\n",
       "    </tr>\n",
       "    <tr>\n",
       "      <th>2</th>\n",
       "      <td>Orion</td>\n",
       "      <td>january</td>\n",
       "      <td>85</td>\n",
       "      <td>-75</td>\n",
       "      <td>21:00</td>\n",
       "      <td>northern</td>\n",
       "    </tr>\n",
       "    <tr>\n",
       "      <th>3</th>\n",
       "      <td>Perseus</td>\n",
       "      <td>december</td>\n",
       "      <td>90</td>\n",
       "      <td>-35</td>\n",
       "      <td>21:00</td>\n",
       "      <td>northern</td>\n",
       "    </tr>\n",
       "    <tr>\n",
       "      <th>4</th>\n",
       "      <td>Leo</td>\n",
       "      <td>april</td>\n",
       "      <td>90</td>\n",
       "      <td>65</td>\n",
       "      <td>21:00</td>\n",
       "      <td>northern</td>\n",
       "    </tr>\n",
       "  </tbody>\n",
       "</table>\n",
       "</div>"
      ]
     },
     "metadata": {},
     "execution_count": 8
    }
   ],
   "metadata": {}
  },
  {
   "cell_type": "code",
   "execution_count": 9,
   "source": [
    "constellations.info()"
   ],
   "outputs": [
    {
     "output_type": "stream",
     "name": "stdout",
     "text": [
      "<class 'pandas.core.frame.DataFrame'>\n",
      "RangeIndex: 5 entries, 0 to 4\n",
      "Data columns (total 6 columns):\n",
      " #   Column         Non-Null Count  Dtype \n",
      "---  ------         --------------  ----- \n",
      " 0   constellation  5 non-null      object\n",
      " 1   bestmonth      5 non-null      object\n",
      " 2   latitudestart  5 non-null      int64 \n",
      " 3   latitudeend    5 non-null      int64 \n",
      " 4   besttime       5 non-null      object\n",
      " 5   hemisphere     5 non-null      object\n",
      "dtypes: int64(2), object(4)\n",
      "memory usage: 368.0+ bytes\n"
     ]
    }
   ],
   "metadata": {}
  },
  {
   "cell_type": "code",
   "execution_count": 10,
   "source": [
    "cities.head()"
   ],
   "outputs": [
    {
     "output_type": "execute_result",
     "data": {
      "text/plain": [
       "          city  latitude               country\n",
       "0    Abu Dhabi     24.47  United Arab Emirates\n",
       "1        Abuja      9.07               Nigeria\n",
       "2        Accra      5.55                 Ghana\n",
       "3    Adamstown    -25.07      Pitcairn Islands\n",
       "4  Addis Ababa      9.02              Ethiopia"
      ],
      "text/html": [
       "<div>\n",
       "<style scoped>\n",
       "    .dataframe tbody tr th:only-of-type {\n",
       "        vertical-align: middle;\n",
       "    }\n",
       "\n",
       "    .dataframe tbody tr th {\n",
       "        vertical-align: top;\n",
       "    }\n",
       "\n",
       "    .dataframe thead th {\n",
       "        text-align: right;\n",
       "    }\n",
       "</style>\n",
       "<table border=\"1\" class=\"dataframe\">\n",
       "  <thead>\n",
       "    <tr style=\"text-align: right;\">\n",
       "      <th></th>\n",
       "      <th>city</th>\n",
       "      <th>latitude</th>\n",
       "      <th>country</th>\n",
       "    </tr>\n",
       "  </thead>\n",
       "  <tbody>\n",
       "    <tr>\n",
       "      <th>0</th>\n",
       "      <td>Abu Dhabi</td>\n",
       "      <td>24.47</td>\n",
       "      <td>United Arab Emirates</td>\n",
       "    </tr>\n",
       "    <tr>\n",
       "      <th>1</th>\n",
       "      <td>Abuja</td>\n",
       "      <td>9.07</td>\n",
       "      <td>Nigeria</td>\n",
       "    </tr>\n",
       "    <tr>\n",
       "      <th>2</th>\n",
       "      <td>Accra</td>\n",
       "      <td>5.55</td>\n",
       "      <td>Ghana</td>\n",
       "    </tr>\n",
       "    <tr>\n",
       "      <th>3</th>\n",
       "      <td>Adamstown</td>\n",
       "      <td>-25.07</td>\n",
       "      <td>Pitcairn Islands</td>\n",
       "    </tr>\n",
       "    <tr>\n",
       "      <th>4</th>\n",
       "      <td>Addis Ababa</td>\n",
       "      <td>9.02</td>\n",
       "      <td>Ethiopia</td>\n",
       "    </tr>\n",
       "  </tbody>\n",
       "</table>\n",
       "</div>"
      ]
     },
     "metadata": {},
     "execution_count": 10
    }
   ],
   "metadata": {}
  },
  {
   "cell_type": "code",
   "execution_count": 11,
   "source": [
    "cities.info()"
   ],
   "outputs": [
    {
     "output_type": "stream",
     "name": "stdout",
     "text": [
      "<class 'pandas.core.frame.DataFrame'>\n",
      "RangeIndex: 256 entries, 0 to 255\n",
      "Data columns (total 3 columns):\n",
      " #   Column    Non-Null Count  Dtype  \n",
      "---  ------    --------------  -----  \n",
      " 0   city      256 non-null    object \n",
      " 1   latitude  256 non-null    float64\n",
      " 2   country   256 non-null    object \n",
      "dtypes: float64(1), object(2)\n",
      "memory usage: 6.1+ KB\n"
     ]
    }
   ],
   "metadata": {}
  },
  {
   "cell_type": "code",
   "execution_count": 12,
   "source": [
    "months = {'january':1, 'february':2, 'march':3, 'april':4, 'may':5, 'june':6, 'july':7, 'august':8, 'september':9, 'october':10, 'november':11, 'december':12}\n",
    "meteor_showers.bestmonth = meteor_showers.bestmonth.map(months)\n",
    "meteor_showers.startmonth = meteor_showers.startmonth.map(months)\n",
    "meteor_showers.endmonth = meteor_showers.endmonth.map(months)\n",
    "moon_phases.month = moon_phases.month.map(months)\n",
    "constellations.bestmonth = constellations.bestmonth.map(months)"
   ],
   "outputs": [],
   "metadata": {}
  },
  {
   "cell_type": "code",
   "execution_count": 13,
   "source": [
    "meteor_showers.head()"
   ],
   "outputs": [
    {
     "output_type": "execute_result",
     "data": {
      "text/plain": [
       "           name   radiant  bestmonth  startmonth  startday  endmonth  endday  \\\n",
       "0        Lyrids      Lyra          4           4        21         4      22   \n",
       "1  Eta Aquarids  Aquarius          5           4        19         5      28   \n",
       "2      Orionids     Orion         10          10         2        11       7   \n",
       "3      Perseids   Perseus          8           7        14         8      24   \n",
       "4       Leonids       Leo         11          11         6        11      30   \n",
       "\n",
       "           hemisphere preferredhemisphere  \n",
       "0            northern            northern  \n",
       "1  northern, southern            southern  \n",
       "2  northern, southern  northern, southern  \n",
       "3            northern            northern  \n",
       "4  northern, southern  northern, southern  "
      ],
      "text/html": [
       "<div>\n",
       "<style scoped>\n",
       "    .dataframe tbody tr th:only-of-type {\n",
       "        vertical-align: middle;\n",
       "    }\n",
       "\n",
       "    .dataframe tbody tr th {\n",
       "        vertical-align: top;\n",
       "    }\n",
       "\n",
       "    .dataframe thead th {\n",
       "        text-align: right;\n",
       "    }\n",
       "</style>\n",
       "<table border=\"1\" class=\"dataframe\">\n",
       "  <thead>\n",
       "    <tr style=\"text-align: right;\">\n",
       "      <th></th>\n",
       "      <th>name</th>\n",
       "      <th>radiant</th>\n",
       "      <th>bestmonth</th>\n",
       "      <th>startmonth</th>\n",
       "      <th>startday</th>\n",
       "      <th>endmonth</th>\n",
       "      <th>endday</th>\n",
       "      <th>hemisphere</th>\n",
       "      <th>preferredhemisphere</th>\n",
       "    </tr>\n",
       "  </thead>\n",
       "  <tbody>\n",
       "    <tr>\n",
       "      <th>0</th>\n",
       "      <td>Lyrids</td>\n",
       "      <td>Lyra</td>\n",
       "      <td>4</td>\n",
       "      <td>4</td>\n",
       "      <td>21</td>\n",
       "      <td>4</td>\n",
       "      <td>22</td>\n",
       "      <td>northern</td>\n",
       "      <td>northern</td>\n",
       "    </tr>\n",
       "    <tr>\n",
       "      <th>1</th>\n",
       "      <td>Eta Aquarids</td>\n",
       "      <td>Aquarius</td>\n",
       "      <td>5</td>\n",
       "      <td>4</td>\n",
       "      <td>19</td>\n",
       "      <td>5</td>\n",
       "      <td>28</td>\n",
       "      <td>northern, southern</td>\n",
       "      <td>southern</td>\n",
       "    </tr>\n",
       "    <tr>\n",
       "      <th>2</th>\n",
       "      <td>Orionids</td>\n",
       "      <td>Orion</td>\n",
       "      <td>10</td>\n",
       "      <td>10</td>\n",
       "      <td>2</td>\n",
       "      <td>11</td>\n",
       "      <td>7</td>\n",
       "      <td>northern, southern</td>\n",
       "      <td>northern, southern</td>\n",
       "    </tr>\n",
       "    <tr>\n",
       "      <th>3</th>\n",
       "      <td>Perseids</td>\n",
       "      <td>Perseus</td>\n",
       "      <td>8</td>\n",
       "      <td>7</td>\n",
       "      <td>14</td>\n",
       "      <td>8</td>\n",
       "      <td>24</td>\n",
       "      <td>northern</td>\n",
       "      <td>northern</td>\n",
       "    </tr>\n",
       "    <tr>\n",
       "      <th>4</th>\n",
       "      <td>Leonids</td>\n",
       "      <td>Leo</td>\n",
       "      <td>11</td>\n",
       "      <td>11</td>\n",
       "      <td>6</td>\n",
       "      <td>11</td>\n",
       "      <td>30</td>\n",
       "      <td>northern, southern</td>\n",
       "      <td>northern, southern</td>\n",
       "    </tr>\n",
       "  </tbody>\n",
       "</table>\n",
       "</div>"
      ]
     },
     "metadata": {},
     "execution_count": 13
    }
   ],
   "metadata": {}
  },
  {
   "cell_type": "code",
   "execution_count": 14,
   "source": [
    "moon_phases.head()"
   ],
   "outputs": [
    {
     "output_type": "execute_result",
     "data": {
      "text/plain": [
       "   month  day      moonphase specialevent\n",
       "0      1    1            NaN          NaN\n",
       "1      1    2  first quarter          NaN\n",
       "2      1    3            NaN          NaN\n",
       "3      1    4            NaN          NaN\n",
       "4      1    5            NaN          NaN"
      ],
      "text/html": [
       "<div>\n",
       "<style scoped>\n",
       "    .dataframe tbody tr th:only-of-type {\n",
       "        vertical-align: middle;\n",
       "    }\n",
       "\n",
       "    .dataframe tbody tr th {\n",
       "        vertical-align: top;\n",
       "    }\n",
       "\n",
       "    .dataframe thead th {\n",
       "        text-align: right;\n",
       "    }\n",
       "</style>\n",
       "<table border=\"1\" class=\"dataframe\">\n",
       "  <thead>\n",
       "    <tr style=\"text-align: right;\">\n",
       "      <th></th>\n",
       "      <th>month</th>\n",
       "      <th>day</th>\n",
       "      <th>moonphase</th>\n",
       "      <th>specialevent</th>\n",
       "    </tr>\n",
       "  </thead>\n",
       "  <tbody>\n",
       "    <tr>\n",
       "      <th>0</th>\n",
       "      <td>1</td>\n",
       "      <td>1</td>\n",
       "      <td>NaN</td>\n",
       "      <td>NaN</td>\n",
       "    </tr>\n",
       "    <tr>\n",
       "      <th>1</th>\n",
       "      <td>1</td>\n",
       "      <td>2</td>\n",
       "      <td>first quarter</td>\n",
       "      <td>NaN</td>\n",
       "    </tr>\n",
       "    <tr>\n",
       "      <th>2</th>\n",
       "      <td>1</td>\n",
       "      <td>3</td>\n",
       "      <td>NaN</td>\n",
       "      <td>NaN</td>\n",
       "    </tr>\n",
       "    <tr>\n",
       "      <th>3</th>\n",
       "      <td>1</td>\n",
       "      <td>4</td>\n",
       "      <td>NaN</td>\n",
       "      <td>NaN</td>\n",
       "    </tr>\n",
       "    <tr>\n",
       "      <th>4</th>\n",
       "      <td>1</td>\n",
       "      <td>5</td>\n",
       "      <td>NaN</td>\n",
       "      <td>NaN</td>\n",
       "    </tr>\n",
       "  </tbody>\n",
       "</table>\n",
       "</div>"
      ]
     },
     "metadata": {},
     "execution_count": 14
    }
   ],
   "metadata": {}
  },
  {
   "cell_type": "code",
   "execution_count": 15,
   "source": [
    "meteor_showers.info()"
   ],
   "outputs": [
    {
     "output_type": "stream",
     "name": "stdout",
     "text": [
      "<class 'pandas.core.frame.DataFrame'>\n",
      "RangeIndex: 5 entries, 0 to 4\n",
      "Data columns (total 9 columns):\n",
      " #   Column               Non-Null Count  Dtype \n",
      "---  ------               --------------  ----- \n",
      " 0   name                 5 non-null      object\n",
      " 1   radiant              5 non-null      object\n",
      " 2   bestmonth            5 non-null      int64 \n",
      " 3   startmonth           5 non-null      int64 \n",
      " 4   startday             5 non-null      int64 \n",
      " 5   endmonth             5 non-null      int64 \n",
      " 6   endday               5 non-null      int64 \n",
      " 7   hemisphere           5 non-null      object\n",
      " 8   preferredhemisphere  5 non-null      object\n",
      "dtypes: int64(5), object(4)\n",
      "memory usage: 488.0+ bytes\n"
     ]
    }
   ],
   "metadata": {}
  },
  {
   "cell_type": "code",
   "execution_count": 16,
   "source": [
    "meteor_showers['startdate'] = pd.to_datetime(2020*10000+meteor_showers.startmonth*100+meteor_showers.startday,format='%Y%m%d')\n",
    "meteor_showers['enddate'] = pd.to_datetime(2020*10000+meteor_showers.endmonth*100+meteor_showers.endday,format='%Y%m%d')"
   ],
   "outputs": [],
   "metadata": {}
  },
  {
   "cell_type": "code",
   "execution_count": 17,
   "source": [
    "moon_phases['date'] = pd.to_datetime(2020*10000+moon_phases.month*100+moon_phases.day,format='%Y%m%d')"
   ],
   "outputs": [],
   "metadata": {}
  },
  {
   "cell_type": "code",
   "execution_count": 18,
   "source": [
    "hemispheres = {'northern':0, 'southern':1, 'northern, southern':3}\n",
    "meteor_showers.hemisphere = meteor_showers.hemisphere.map(hemispheres)\n",
    "constellations.hemisphere = constellations.hemisphere.map(hemispheres)"
   ],
   "outputs": [],
   "metadata": {}
  },
  {
   "cell_type": "code",
   "execution_count": 19,
   "source": [
    "phases = {'new moon':0,'third quarter':0.5, 'first quarter':0.5,'full moon':1.0}\n",
    "moon_phases['percentage'] = moon_phases.moonphase.map(phases)\n",
    "moon_phases.head()"
   ],
   "outputs": [
    {
     "output_type": "execute_result",
     "data": {
      "text/plain": [
       "   month  day      moonphase specialevent       date  percentage\n",
       "0      1    1            NaN          NaN 2020-01-01         NaN\n",
       "1      1    2  first quarter          NaN 2020-01-02         0.5\n",
       "2      1    3            NaN          NaN 2020-01-03         NaN\n",
       "3      1    4            NaN          NaN 2020-01-04         NaN\n",
       "4      1    5            NaN          NaN 2020-01-05         NaN"
      ],
      "text/html": [
       "<div>\n",
       "<style scoped>\n",
       "    .dataframe tbody tr th:only-of-type {\n",
       "        vertical-align: middle;\n",
       "    }\n",
       "\n",
       "    .dataframe tbody tr th {\n",
       "        vertical-align: top;\n",
       "    }\n",
       "\n",
       "    .dataframe thead th {\n",
       "        text-align: right;\n",
       "    }\n",
       "</style>\n",
       "<table border=\"1\" class=\"dataframe\">\n",
       "  <thead>\n",
       "    <tr style=\"text-align: right;\">\n",
       "      <th></th>\n",
       "      <th>month</th>\n",
       "      <th>day</th>\n",
       "      <th>moonphase</th>\n",
       "      <th>specialevent</th>\n",
       "      <th>date</th>\n",
       "      <th>percentage</th>\n",
       "    </tr>\n",
       "  </thead>\n",
       "  <tbody>\n",
       "    <tr>\n",
       "      <th>0</th>\n",
       "      <td>1</td>\n",
       "      <td>1</td>\n",
       "      <td>NaN</td>\n",
       "      <td>NaN</td>\n",
       "      <td>2020-01-01</td>\n",
       "      <td>NaN</td>\n",
       "    </tr>\n",
       "    <tr>\n",
       "      <th>1</th>\n",
       "      <td>1</td>\n",
       "      <td>2</td>\n",
       "      <td>first quarter</td>\n",
       "      <td>NaN</td>\n",
       "      <td>2020-01-02</td>\n",
       "      <td>0.5</td>\n",
       "    </tr>\n",
       "    <tr>\n",
       "      <th>2</th>\n",
       "      <td>1</td>\n",
       "      <td>3</td>\n",
       "      <td>NaN</td>\n",
       "      <td>NaN</td>\n",
       "      <td>2020-01-03</td>\n",
       "      <td>NaN</td>\n",
       "    </tr>\n",
       "    <tr>\n",
       "      <th>3</th>\n",
       "      <td>1</td>\n",
       "      <td>4</td>\n",
       "      <td>NaN</td>\n",
       "      <td>NaN</td>\n",
       "      <td>2020-01-04</td>\n",
       "      <td>NaN</td>\n",
       "    </tr>\n",
       "    <tr>\n",
       "      <th>4</th>\n",
       "      <td>1</td>\n",
       "      <td>5</td>\n",
       "      <td>NaN</td>\n",
       "      <td>NaN</td>\n",
       "      <td>2020-01-05</td>\n",
       "      <td>NaN</td>\n",
       "    </tr>\n",
       "  </tbody>\n",
       "</table>\n",
       "</div>"
      ]
     },
     "metadata": {},
     "execution_count": 19
    }
   ],
   "metadata": {}
  },
  {
   "cell_type": "code",
   "execution_count": 20,
   "source": [
    "meteor_showers = meteor_showers.drop(['startmonth', 'startday', 'endmonth', 'endday', 'hemisphere'], axis=1)\n",
    "moon_phases = moon_phases.drop(['month','day','moonphase','specialevent'], axis=1)\n",
    "constellations = constellations.drop(['besttime'], axis=1)"
   ],
   "outputs": [],
   "metadata": {}
  },
  {
   "cell_type": "code",
   "execution_count": 21,
   "source": [
    "lastPhase = 0\n",
    "\n",
    "for index, row in moon_phases.iterrows():\n",
    "    if pd.isnull(row['percentage']):\n",
    "        moon_phases.at[index,'percentage'] = lastPhase\n",
    "    else:\n",
    "        lastPhase = row['percentage']\n",
    "\n",
    "moon_phases.info()"
   ],
   "outputs": [
    {
     "output_type": "stream",
     "name": "stdout",
     "text": [
      "<class 'pandas.core.frame.DataFrame'>\n",
      "RangeIndex: 366 entries, 0 to 365\n",
      "Data columns (total 2 columns):\n",
      " #   Column      Non-Null Count  Dtype         \n",
      "---  ------      --------------  -----         \n",
      " 0   date        366 non-null    datetime64[ns]\n",
      " 1   percentage  366 non-null    float64       \n",
      "dtypes: datetime64[ns](1), float64(1)\n",
      "memory usage: 5.8 KB\n"
     ]
    }
   ],
   "metadata": {}
  },
  {
   "cell_type": "code",
   "execution_count": 22,
   "source": [
    "meteor_showers.info()"
   ],
   "outputs": [
    {
     "output_type": "stream",
     "name": "stdout",
     "text": [
      "<class 'pandas.core.frame.DataFrame'>\n",
      "RangeIndex: 5 entries, 0 to 4\n",
      "Data columns (total 6 columns):\n",
      " #   Column               Non-Null Count  Dtype         \n",
      "---  ------               --------------  -----         \n",
      " 0   name                 5 non-null      object        \n",
      " 1   radiant              5 non-null      object        \n",
      " 2   bestmonth            5 non-null      int64         \n",
      " 3   preferredhemisphere  5 non-null      object        \n",
      " 4   startdate            5 non-null      datetime64[ns]\n",
      " 5   enddate              5 non-null      datetime64[ns]\n",
      "dtypes: datetime64[ns](2), int64(1), object(3)\n",
      "memory usage: 368.0+ bytes\n"
     ]
    }
   ],
   "metadata": {}
  },
  {
   "cell_type": "code",
   "execution_count": 23,
   "source": [
    "moon_phases.info()"
   ],
   "outputs": [
    {
     "output_type": "stream",
     "name": "stdout",
     "text": [
      "<class 'pandas.core.frame.DataFrame'>\n",
      "RangeIndex: 366 entries, 0 to 365\n",
      "Data columns (total 2 columns):\n",
      " #   Column      Non-Null Count  Dtype         \n",
      "---  ------      --------------  -----         \n",
      " 0   date        366 non-null    datetime64[ns]\n",
      " 1   percentage  366 non-null    float64       \n",
      "dtypes: datetime64[ns](1), float64(1)\n",
      "memory usage: 5.8 KB\n"
     ]
    }
   ],
   "metadata": {}
  },
  {
   "cell_type": "code",
   "execution_count": 24,
   "source": [
    "cities.info()"
   ],
   "outputs": [
    {
     "output_type": "stream",
     "name": "stdout",
     "text": [
      "<class 'pandas.core.frame.DataFrame'>\n",
      "RangeIndex: 256 entries, 0 to 255\n",
      "Data columns (total 3 columns):\n",
      " #   Column    Non-Null Count  Dtype  \n",
      "---  ------    --------------  -----  \n",
      " 0   city      256 non-null    object \n",
      " 1   latitude  256 non-null    float64\n",
      " 2   country   256 non-null    object \n",
      "dtypes: float64(1), object(2)\n",
      "memory usage: 6.1+ KB\n"
     ]
    }
   ],
   "metadata": {}
  },
  {
   "cell_type": "code",
   "execution_count": 25,
   "source": [
    "constellations.info()"
   ],
   "outputs": [
    {
     "output_type": "stream",
     "name": "stdout",
     "text": [
      "<class 'pandas.core.frame.DataFrame'>\n",
      "RangeIndex: 5 entries, 0 to 4\n",
      "Data columns (total 5 columns):\n",
      " #   Column         Non-Null Count  Dtype \n",
      "---  ------         --------------  ----- \n",
      " 0   constellation  5 non-null      object\n",
      " 1   bestmonth      5 non-null      int64 \n",
      " 2   latitudestart  5 non-null      int64 \n",
      " 3   latitudeend    5 non-null      int64 \n",
      " 4   hemisphere     5 non-null      int64 \n",
      "dtypes: int64(4), object(1)\n",
      "memory usage: 328.0+ bytes\n"
     ]
    }
   ],
   "metadata": {}
  },
  {
   "cell_type": "code",
   "execution_count": 34,
   "source": [
    "def predict_best_meteor_shower_viewing(city):\n",
    "    # Create an empty string to return the message back to the user\n",
    "    meteor_shower_string = \"\"\n",
    "\n",
    "    if city not in cities.values:\n",
    "        meteor_shower_string = \"Unfortunately, \" + city + \" isn't available for a prediction at this time.\"\n",
    "        return meteor_shower_string\n",
    "\n",
    "    # Get the latitude of the city from the cities DataFrame\n",
    "    latitude = cities.loc[cities['city'] == city, 'latitude'].iloc[0]\n",
    "\n",
    "    # Get the list of constellations that are viewable from that latitude\n",
    "    constellation_list = constellations.loc[(constellations['latitudestart'] >= latitude) & (constellations['latitudeend'] <= latitude), 'constellation'].tolist()\n",
    "\n",
    "    # If no constellations are viewable, let the user know\n",
    "    if not constellation_list:\n",
    "        meteor_shower_string = \"Unfortunately, there are no meteor showers viewable from \"+ city + \".\"\n",
    "\n",
    "        return meteor_shower_string\n",
    "\n",
    "    meteor_shower_string = \"In \" + city + \" you can see the following meteor showers:\\n\"\n",
    "    \n",
    "    # Iterate through each constellation that is viewable from the city\n",
    "    for constellation in constellation_list:\n",
    "        # Find the meteor shower that is nearest to that constellation\n",
    "        meteor_shower = meteor_showers.loc[meteor_showers['radiant'] == constellation, 'name'].iloc[0]\n",
    "\n",
    "        # Find the start and end dates for that meteor shower\n",
    "        meteor_shower_startdate = meteor_showers.loc[meteor_showers['radiant'] == constellation, 'startdate'].iloc[0]\n",
    "        meteor_shower_enddate = meteor_showers.loc[meteor_showers['radiant'] == constellation, 'enddate'].iloc[0]\n",
    "\n",
    "        # Find the Moon phases for each date within the viewable time frame of that meteor shower\n",
    "        moon_phases_list = moon_phases.loc[(moon_phases['date'] >= meteor_shower_startdate) & (moon_phases['date'] <= meteor_shower_enddate)]\n",
    "\n",
    "        # Find the first date where the Moon is the least visible\n",
    "        best_moon_date = moon_phases_list.loc[moon_phases_list['percentage'].idxmin()]['date']\n",
    "\n",
    "        # Add that date to the string to report back to the user\n",
    "        meteor_shower_string += meteor_shower + \" is best seen if you look towards the \" + constellation + \" constellation on \" +  best_moon_date.to_pydatetime().strftime(\"%B %d, %Y\") + \".\\n\"\n",
    "    \n",
    "    return meteor_shower_string"
   ],
   "outputs": [],
   "metadata": {}
  },
  {
   "cell_type": "code",
   "execution_count": 35,
   "source": [
    "print(predict_best_meteor_shower_viewing('Abu Dhabi'))"
   ],
   "outputs": [
    {
     "output_type": "stream",
     "name": "stdout",
     "text": [
      "In Abu Dhabi you can see the following meteor showers:\n",
      "Lyrids is best seen if you look towards the Lyra constellation on April 22, 2020.\n",
      "Eta Aquarids is best seen if you look towards the Aquarius constellation on April 22, 2020.\n",
      "Orionids is best seen if you look towards the Orion constellation on October 16, 2020.\n",
      "Perseids is best seen if you look towards the Perseus constellation on July 20, 2020.\n",
      "\n"
     ]
    }
   ],
   "metadata": {}
  },
  {
   "cell_type": "code",
   "execution_count": 31,
   "source": [
    "# Create an empty string to return the message back to the user\n"
   ],
   "outputs": [
    {
     "output_type": "error",
     "ename": "SyntaxError",
     "evalue": "'return' outside function (<ipython-input-31-80d8144e6898>, line 6)",
     "traceback": [
      "\u001b[0;36m  File \u001b[0;32m\"<ipython-input-31-80d8144e6898>\"\u001b[0;36m, line \u001b[0;32m6\u001b[0m\n\u001b[0;31m    return meteor_shower_string\u001b[0m\n\u001b[0m    ^\u001b[0m\n\u001b[0;31mSyntaxError\u001b[0m\u001b[0;31m:\u001b[0m 'return' outside function\n"
     ]
    }
   ],
   "metadata": {}
  },
  {
   "cell_type": "code",
   "execution_count": 36,
   "source": [
    "# Folloowing code is the Execise - Add data from the Chang'e story"
   ],
   "outputs": [],
   "metadata": {}
  },
  {
   "cell_type": "code",
   "execution_count": 39,
   "source": [
    "change_meteor_shower = {'name':'Chang\\'e','radiant':'Draco','bestmonth':'october','startmonth':'october','startday':1,'endmonth':'october','endday':31,'hemisphere':'northern','preferredhemisphere':'northern'}\n",
    "\n",
    "meteor_showers = meteor_showers.append(change_meteor_shower, ignore_index=True)"
   ],
   "outputs": [],
   "metadata": {}
  },
  {
   "cell_type": "code",
   "execution_count": 40,
   "source": [
    "draco_constellation = {'constellation':'Draco','bestmonth':'july','latitudestart':90,'latitudeend':-15,'besttime':2100,'hemisphere':'northern'}\n",
    "\n",
    "constellations = constellations.append(draco_constellation, ignore_index=True)"
   ],
   "outputs": [],
   "metadata": {}
  },
  {
   "cell_type": "code",
   "execution_count": null,
   "source": [],
   "outputs": [],
   "metadata": {}
  }
 ],
 "metadata": {
  "orig_nbformat": 4,
  "language_info": {
   "name": "python",
   "version": "3.8.8",
   "mimetype": "text/x-python",
   "codemirror_mode": {
    "name": "ipython",
    "version": 3
   },
   "pygments_lexer": "ipython3",
   "nbconvert_exporter": "python",
   "file_extension": ".py"
  },
  "kernelspec": {
   "name": "python3",
   "display_name": "Python 3.8.8 64-bit ('base': conda)"
  },
  "interpreter": {
   "hash": "dca0ade3e726a953b501b15e8e990130d2b7799f14cfd9f4271676035ebe5511"
  }
 },
 "nbformat": 4,
 "nbformat_minor": 2
}